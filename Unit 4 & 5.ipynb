{
 "cells": [
  {
   "cell_type": "markdown",
   "metadata": {},
   "source": [
    "# unit 4: immutable ds"
   ]
  },
  {
   "cell_type": "code",
   "execution_count": 1,
   "metadata": {},
   "outputs": [
    {
     "name": "stdout",
     "output_type": "stream",
     "text": [
      "t\n",
      "t\n",
      "i\n",
      "ti s\n",
      "this\n",
      "ohtyp si siht\n",
      "this is python\n",
      "is is pyth\n"
     ]
    }
   ],
   "source": [
    "\n",
    "s=\"this is python\"\n",
    "print(s[0])\n",
    "print(s[10])\n",
    "print(s[-9])\n",
    "print(s[0:8:2])\n",
    "print(s[0:4])\n",
    "print(s[-2:-15:-1])\n",
    "print(s[::])\n",
    "print(s[2:-2:1])"
   ]
  },
  {
   "cell_type": "markdown",
   "metadata": {},
   "source": [
    "* String Operators"
   ]
  },
  {
   "cell_type": "code",
   "execution_count": 5,
   "metadata": {},
   "outputs": [
    {
     "name": "stdout",
     "output_type": "stream",
     "text": [
      "hellostudents\n",
      "hellohello\n",
      "hi\n",
      "\n",
      "\n",
      "hi\n",
      "hi\n",
      "False\n",
      "True\n",
      "True\n",
      "\n",
      "True\n",
      "False\n"
     ]
    }
   ],
   "source": [
    "# Arithmatic\n",
    "s1='hello'\n",
    "s2='students'\n",
    "print(s1+s2)\n",
    "print(s1*2)\n",
    "\n",
    "# logical (and,or,not)\n",
    "print('hello' and 'hi')\n",
    "print(''and 'hi')\n",
    "print('hi' and '')\n",
    "print('hi'or 'hello')\n",
    "print('' or 'hi')\n",
    "print(not 'hello')\n",
    "\n",
    "print('he' in 'hello')\n",
    "print('he' not in 'xyz')\n",
    "print()\n",
    "\n",
    "\n",
    "# Relational (>,<,>=,<=,==,!=)\n",
    "print('h'=='h')\n",
    "print('H'=='h')"
   ]
  },
  {
   "cell_type": "code",
   "execution_count": 11,
   "metadata": {},
   "outputs": [
    {
     "name": "stdout",
     "output_type": "stream",
     "text": [
      "2218096885616\n",
      "2218097687216\n",
      "h e l l o s t u d e n t s \n",
      "D5 D5 D5 D5 D5 D5 D5 D5 D5 D5 D5 D5 D5 \n",
      "0 - h\n",
      "1 - e\n",
      "2 - l\n",
      "3 - l\n",
      "4 - o\n",
      "5 - s\n",
      "6 - t\n",
      "7 - u\n",
      "8 - d\n",
      "9 - e\n",
      "10 - n\n",
      "11 - t\n",
      "12 - s\n"
     ]
    }
   ],
   "source": [
    "s='hello'\n",
    "print(id(s))\n",
    "s+='students'\n",
    "print(id(s))\n",
    "\n",
    "for i in  s:\n",
    "    print(i ,end=\" \")\n",
    "print()\n",
    "for i in  s:\n",
    "    print('D5' , end=\" \")\n",
    "print()\n",
    "\n",
    "for i,j in enumerate(s):\n",
    "    print(i,'-',j)"
   ]
  },
  {
   "cell_type": "code",
   "execution_count": 20,
   "metadata": {},
   "outputs": [
    {
     "name": "stdout",
     "output_type": "stream",
     "text": [
      "Enter Stringhh\n",
      "palindrom\n"
     ]
    }
   ],
   "source": [
    "# whether entered string pallindrom or not\n",
    "s=input(\"Enter String\")\n",
    "if s==s[: :-1]:\n",
    "    print(\"palindrom\")\n",
    "else:\n",
    "    print(\"not\")"
   ]
  },
  {
   "cell_type": "code",
   "execution_count": 22,
   "metadata": {},
   "outputs": [
    {
     "name": "stdout",
     "output_type": "stream",
     "text": [
      "11\n",
      " \n",
      "w\n",
      "[' ', 'd', 'e', 'h', 'l', 'l', 'l', 'o', 'o', 'r', 'w']\n",
      "['w', 'r', 'o', 'o', 'l', 'l', 'l', 'h', 'e', 'd', ' ']\n",
      "Hello world\n",
      "Hello World\n",
      "HELLO WORLD\n",
      "hello world\n",
      "HELLO WORLD\n",
      "2\n",
      "------------------\n",
      "True\n",
      "False\n",
      "False\n",
      "False\n",
      "True\n",
      "True\n",
      "False\n",
      "False\n",
      "True\n"
     ]
    }
   ],
   "source": [
    "* \n",
    "s='hello world'\n",
    "print(len(s))\n",
    "print(min(s))\n",
    "print(max(s))\n",
    "print(sorted(s))\n",
    "print(sorted(s,reverse=True))\n",
    "print(s.capitalize())\n",
    "print(s.title())\n",
    "print(s.upper())\n",
    "print(s.lower())\n",
    "print(s.swapcase())\n",
    "print(s.count('o'))\n",
    "print(\"------------------\")\n",
    "# print(dir(s))\n",
    "s1='123abc'\n",
    "print(s1.isalnum())\n",
    "print(s.isalnum())\n",
    "print(s.isalpha())\n",
    "print(''.isspace())\n",
    "print('123'.isdigit())\n",
    "print('123'.isnumeric())\n",
    "print('hello World'.istitle())\n",
    "print(s.isupper())\n",
    "print(s.islower())"
   ]
  },
  {
   "cell_type": "code",
   "execution_count": 26,
   "metadata": {},
   "outputs": [
    {
     "name": "stdout",
     "output_type": "stream",
     "text": [
      "5\n",
      "5\n",
      "-1\n",
      "-1\n",
      "-1\n",
      "True\n"
     ]
    }
   ],
   "source": [
    "# find() \n",
    "s='Learning python is easy'\n",
    "print(s.find('in'))\n",
    "print(s.rfind('in'))\n",
    "print(s.find('in',15,len(s)))\n",
    "print(s.rfind('in',15,len(s)))\n",
    "print(s.find('xyz'))\n",
    "print(s.startswith('Le'))\n"
   ]
  },
  {
   "cell_type": "code",
   "execution_count": 25,
   "metadata": {},
   "outputs": [
    {
     "name": "stdout",
     "output_type": "stream",
     "text": [
      "5\n",
      "5\n"
     ]
    }
   ],
   "source": [
    "# index()\n",
    "s='Learning python is easy'\n",
    "print(s.index('in'))\n",
    "print(s.rindex('in'))\n"
   ]
  },
  {
   "cell_type": "code",
   "execution_count": 28,
   "metadata": {},
   "outputs": [
    {
     "name": "stdout",
     "output_type": "stream",
     "text": [
      "hi my world\n",
      "1<2<3<4\n",
      "['Learning', 'python', 'is', 'easy']\n",
      "['Learn', 'g python is easy']\n",
      "Learnofg python is easy\n",
      "Learn08g python is easy\n",
      "bhvhebj\n",
      "bhbdjja\n",
      "avbhjgbj\n"
     ]
    }
   ],
   "source": [
    "# join()\n",
    "s='Learning python is easy'\n",
    "print(\" \".join(['hi','my','world']))\n",
    "print('<'.join('1234'))\n",
    "\n",
    "# split()\n",
    "print(s.split())\n",
    "print(s.split('in'))\n",
    "\n",
    "# replace()\n",
    "print(s.replace('in','of'))\n",
    "print(s.replace('in','08',2))\n",
    "\n",
    "# strip()\n",
    "print('abhvhebja'.strip('a'))\n",
    "print('abhbdjja'.lstrip('a'))\n",
    "print('avbhjgbja'.rstrip('a'))        "
   ]
  }
 ],
 "metadata": {
  "kernelspec": {
   "display_name": "Python 3",
   "language": "python",
   "name": "python3"
  },
  "language_info": {
   "codemirror_mode": {
    "name": "ipython",
    "version": 3
   },
   "file_extension": ".py",
   "mimetype": "text/x-python",
   "name": "python",
   "nbconvert_exporter": "python",
   "pygments_lexer": "ipython3",
   "version": "3.8.5"
  }
 },
 "nbformat": 4,
 "nbformat_minor": 4
}
