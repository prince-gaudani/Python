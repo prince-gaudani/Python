* membership operator

s='this is python'
print('this ' in s)
print('X' not in s)

ternary operator

a,b=20,30
x=10 if a<b else 40
print(x)

assignment operator

y=2
y*=3
print(y)

identify operators
is, is not

a=10
b=20
print(a is b)
print(a is not b)

bitwise operator (Binary)

# operator precedence 

()
** - same R to L
bitwise complement
* ,/ ,//,% - same L to R
+ , -
<< , >>
relational operator 
assignment
membership
not
and
or

ord()

print(ord('a'))

print(chr(98))
x=chr(100)
print(x)

Math Library


import math
x=math.sqrt(81)
print(x)

import math
radius =100
p=math.pi
area=p*100**2
print(area)

* wap to convert sec into hour:min:sec

s=int(input('Enter seconds : '))
hr=s//3600
sec=s%3600
min=s//60
sec=s%60
print("hr:min:sec-->",hr,':',min,':',s)


* wap to swap to variables without third variable

a,b=10,20
a=a+b
b=a-b
a=a-b
print(a,b)

# or

a,b=b,a
print(a)

wap to get marks from the user and give grades according to following distribution

m=int(input("Enter your marks :"))
if (m<=100 and m>=80) :
   print('A')
elif (m<=79 and m>=60) :
   print('B')
elif (m<=59 and m>=35):
   print("c")
elif (m<35 and m>=0) :
   print("Fail")
else :
   print("Enter proper marks ")

# nested if
x=55
if x>10:
    print('above ten')
    if x>20 :
        print('above 20')
    else :
            print('below 20')           
else :
    print('less')

# wap to compare three numbers and find biggest num among three num
a,b,c=10,20,30
if a>c and a>b :
    print('a is max')
elif b>a and b>c :
    print('b is max')
else :
    print('c is max')

* wap to arrange three numbers in ascending and descending order

a=int(input('enter number a :'))
b=int(input('enter number b :'))
c=int(input('enter number c :'))
if a<b and a<c :
    if b<c :
         x,y,z=a,b,c
    else :
         x,y,z=a,c,b
elif b<c and b<a :
        if a<c :
            x,y,z=b,a,c
        else :
           x,y,z=b,c,a
elif c<a and c<b :
        if a<b :
           x,y,z=c,a,b
        else :
           x,y,z=c,b,a
else :
     print('Enter correct number')
print('asc num :' ,x,y,z)
print('desc num :',z,y,x)
            

*wap to create calculator get a two numbers from user and also get the sign from user which operation he or she want to do

a=int(input('enter num 1 :'))
b=int(input('enter num 2 :'))
s=input('enter sign :')

if s=='+' :
    print('Addition is :',a+b)
elif s=='-' :
    print('substraction is : ',a-b)
elif s=='*' :
    print('multiplication is : ',a*b)
elif s=='//' :
    print('Division is : ',a//b)
elif s=='%' :
    print('modulo is : ',a%b)
else :
    print('enter valid sign')

# * wap to check the enter entered date is valid or not if the date is valid then give the increment date 

date=int(input('Enter date :'))
m=int(input('Enter Month :'))
y=int(input('Enter year :'))

if (m=='1' or m=='3'or m=='5'or m=='7' or m=='8'or m=='10' or m=='12') :
    max1=31
elif (m=='4' or m=='6' or m=='9' or m=='11') :
    max1=30
elif (y%4==0 and y%400==0 or y%100!=0) :
    max1=29
else  :
    max1=28
    
if m<1 or m>12 :
    print('invalid date')
elif date<1 and date>max1 :
    print('date is invalid')
elif date==max1 and m!=12 :
    date=1
    m=m+1
    print('next date =',date,m,y)
elif date==max1 and m==12 :
    date=1
    m=1
    y+=1
    print('next date :',date,m,y)
else :
    date+=1
    print('next date :',date,m,y)
    
    

#  wap to calculate number of basic american coins given a value less than
# 1 $= 100 cents,
# 25 cents= 1 quarter , 10 cents= 1 dime, 5 cents= 1 nickel , 1 cent= 1 penny

cents=int(input('Enter cents'))
qua=0
dim=0
nic=0
pen=0

if cents>=25 :
    qua=cents//25
    cents%=25
    print(qua,'quarter',end=',')
if cents>=10 :
    dim=cents//10
    cents%=10
    print(dim,'dime',end=',')
if cents>=5 :
    nic=cents//5
    cents%=5
    print(nic,'nickel',end=',')
if cents>=1 :
    pen=cents
    print(pen,'penny')


#  wap to calculate the parking fees as per the entry and exit time in 
# 24 hr timesystem from user and fees are as per folowed
# < 3 hrs bus/truck-100 ,car-50 , 2wheelers-30
# > 3 hrs  bus/truck-150 ,car-100 , 2wheelers-50

v=int(input('Enter vehicle type :'))
e_hr=int(input('Entry_hr :'))
e_min=int(input('Entry_min :'))
ex_hr=int(input('Exit_hr :'))
ex_min=int(input('Exit_min :'))

if ex_hr<e_hr :
    ex_hr+=24
pt_hr=(ex_hr-e_hr)
pt_min=(ex_min-e_min)

if pt_hr<3 or (pt_hr==3 and pt_min<=0) :
    if v==1 :
        rate=100
    elif v==2 :
        rate=50
    else :
        rate=30
elif pt_hr>3 or (pt_hr==3 and pt_min>0) :
    if v==1:
        rate=150
    elif v==2 :
        rate=100
    else :
        rate=50
else :
    print('Enter time properly :')
print('rate rs =',rate)



* iterators (loops)
for , while

s='APPLE'
for i in s:
    print(i)
    print(s)

s='apple'
for i in range(1,4,1) :
    print(i)
    print(s)

for i in range(10,1,-1) :
    print(i)

# for i in range(1,10,1):
#     print(i)
    
# x=1
# while x<=5:
#     print(x)
#     x+=1

n=''
while n!="XYZ" :
    n=input("enter namer")
    print(n)
print("good")

* break Statement

for i in range(10):
    print(i)
    if i==4 :
        print("stop")
        break
    print(i)
print("ok")

* continue Statement

for i in range(10) :
    if i%2==0:
        continue
    print(i)

* LOOP WITH ELSE

for i in range(3):
    if i==1:
        break
    print(i)
else :
    print("y")

* wap to get number from the user and find sum of upto n number and also find avg of that

# n1=int(input("Enter start num "))
# n2=int(input("Enter end num"))
# sum=0
# for i in range(n1,n2,1):
#     sum=sum+i
# print("sum=",sum,"avg =",sum/n)

n1=int(input("Enter start num "))
sum=0
for i in range(n1+1):
    sum=sum+i
print("sum=",sum,"avg =",sum/n)

* wap to find factorial of entered number

n=int(input("Enter number "))
f=1
if n<0:
    print("not valid")
elif n==0 or n==1:
    print("Fact=",f)
else:
    for i in range(2,n+1):
        f=f*i
    print("fact=",f)

* wap to finf fibonaci sequence upto nth term

n=int(input("Enter number "))
n1,n2=0,1
if n<0:
    print("not valid")
elif n==1:
    print("fibonacci =",n1)
else:
    print("fibonacci =")
    print(n1)
    print(n2)
    for i in range(n-2):
        n=n1+n2
        print(n)
        n1=n2
        n2=n
     


* prime num or not

n=int(input("Enter num"))
flag=0
for i in range(2,n):
    if n%i==0:
        flag=1
if flag==0:
      print("prime")
else:
    print("Composite")

* wap to find number Armstrong or not without inbuilt function

n=int(input("Enter num"))
temp=n
rev=0
while n!=0:
    a=n%10
    rev=rev*10+a
    n=n//10
print(rev)
if rev==temp:
    print("Pallindrome")
else :
    print("not")

* Armstrong num 

n=int(input("Enter num"))
temp=n
arm=0
sum=0
while temp!=0:
    a=temp%10
    sum=sum+a**3
    temp=temp//10
if sum==n:
    print("Arm")
else :
    print("not")

# pattern 

row=5
for i in range(1,row+1):
    for j in range(1,i+1):
        print("*",end=" ")
    print()
    
for i in range(1,row+1):
    for j in range(1,row+2-i):
        print("*",end=" ")
    print()

n=5

for i in range(1,n+1):
    for j in range(1,i+1):
        print(" ",end=" ")
    for k in range(i,n+1):
        print("*",end=" ")
    print()
    

n=5
for i in range(1,n+1):
    for j in range(1,n-i+1):
        print("",end=" ")
    for k in range(1,i+1):
        print("*",end=" ")
    print()

n=5
for i in range(1,n+1):
    l=65
    g=1
    for j in range(1,n-i+1):
        print(end=" ")
    for k in range(1,i+1):
        if i%2==0:
            print(chr(l),end=" ")
            l=l+1
        else:
            print(g,end=" ")
            g=g+1
    print()
                

* wap to ask the user for an hr between 1 and 12 ask them to enter am or pm and ask how many hr user want ahead in future
  printout what hour will be that many hours into the future

user=int(input("Enter time : "))
day=input("Enter am or pm : ")
hr=int(input("how many hrs ahead ? : "))

if user>0 and user<=12 and (day=="am" or day=="pm") and hr>=0 :
    if day=="pm" and user!=12:
        user+=12
    elif day=="am" and user==12:
        user=0
    new_hr=user+hr
    new_hr=new_hr%24
    
    if new_hr>=0 and new_hr<12:
        if new_hr==0:
            new_hr=12
        print("new_hr :",new_hr,"am")
    else :
        new_hr=new_hr%12
        if new_hr==0:
            new_hr=12
        print("new_hr :",new_hr,"pm")
else:n=5
for i in range(1,n+1):
    l=65
    g=1
    for j in range(1,n-i+1):
        print(end=" ")
    for k in range(1,i+1):
        if i%2==0:
            print(chr(l),end=" ")
            l=l+1
        else:
            print(g,end=" ")
            g=g+1
    print()
                
    print("invalid input")
        

* wap to get marks from user upto when user enter done find sum of marks , avg , min and max marks

count=0
sum=0

while True:
    n=input("Enter marks or done")
    
    if n=="done":
        break
    n=int(n)
    if n<0 or n>100:
        print("ENTER VALID Mrks")
        continue
    count=count+1
    sum=sum+n
    if count==1:
        min1=n
        max1=n
    if n>max1:
        max1=n
    if n<min1:
        min1=n
print("sum =",sum,"avg =",sum//count ,"min =",min1,"max =",max1)
        

# sum of rupees day by day
sum=0
m=1
s=7
d=int(input("Enter days : "))
w=d//7
for i in range(w):
    for j in range(m,s+1):
        sum=sum+j
    m=m+1
    s=s+1
for k in range(d%7):
    sum=sum+m
    m=m+1
print(sum)

unit=int(input('Enter Unit : '))
if unit<=100:
    print("no chrge fo first 100")
elif unit>100 and unit<=200:
    unit=unit-100
    unit=unit*5
    print("Charge :",unit)
elif unit>200 :
    unit=unit-200
    unit=unit*10
    print("Charge :",unit+500)

* lcm & Gcd

r=int(input('enter the no of rows'))
for i in range(1,4+1):
for j in(1,3+1):
print('*',end=' ')


r=int(input('enter the no of rows'))
for i in range(1,r+1):
    for j in range(1,i+1):
        print('*',end=' ')
    print()

r=int(input("enter the no rows"))
for i in range(r,0,-1):
    for i in range(i,0,-1):
        print('*',end=' ')
    print( )

r=int(input('enter the number of rows'))
for i in range(1,r+1):
    for j in range(1,i+1):
        print('*',end=' ')
    print()
for i in range(r,0,-1):
    for j in range(i,0,-1):
        print('*',end=' ')
    print()

r=int(input("enter the no of rows"))
for i in range(1,r+1):
    for j in range(1,i+1):
        print(chr(i+64),end=' ')
    print( )

r=int(input("enter the no of rows"))
for i in range(1,r+1):
    for j in range(1,i+1):
        print(chr(j+64),end=' ')
    print()

n=5

for i in range(1,n+1):
    for j in range(1,i+1):
        print(" ",end=" ")
    for k in range(i,n+1):
        print("*",end=" ")
    print()
    

r=int(input('enter the no of rows'))

for i in range(r+1):
    for k in range(r-i):
        print(" ",end=" ")
    for j in range(i):
        print("*",end=" ")
    print()
    

n=5
for i in range(1,n+1):
    for j in range(1,n-i+1):
        print("",end=" ")
    for k in range(1,i+1):
        print("*",end=" ")
    print()

n=5
for i in range(1,n+1):
    l=65
    g=1
    for j in range(1,n-i+1):
        print(end=" ")
    for k in range(1,i+1):
        if i%2==0:
            print(chr(l),end=" ")
            l=l+1
        else:
            print(g,end=" ")
            g=g+1
    print()
                

def f1(a,b):
    c=a+b
    print(c)
f1(2,3)

def f1():
    a=2
    b=3
    c=a+b
    print(c)
f1()

a=2
b=3
c=a+b
print(c)

def f1(a,b):
    c=a+b
    return c
x=f1(2,3)
print(x)

def F2C(F):
    C=(F-32)*5/9
    print(C)
F2C(40)

def c2f(c):
    return(c*9/5)+32
o=c2f(25)
print(o)

#wap to calculate the factorial of given number
def fact(n):
    if n==0 or n==1:
        return 1
    else:
        return n*fact(n-1)
n=int(input('enter the number'))
print(fact(n))

#214 wap to check whether a given range
def f1(n,start,end):
    return start<=n<=end
n=int(input('enter num'))
start=int(input('enter start of range'))
end=int(input('enter end of range'))
if f1(n,start,end):
    print('in a range')
else:
    print('not in a range')

#wap to pythan to check whether the given number armstrong or not using user define function 
def f1(n):
    temp=n
    while:
        degit=temp%10

* wap to swap first and last digit of number 
  note - not use of inbuilt function like min,max ,sum and data structure

n=int(input("Enter num"))
c=0
temp=n
while temp!=0:
    r=temp%10
    c=c+1
    temp=temp//10
    if c>1:
        f_d=n//10**(c-1)
        l_d=n%10
        m_d=(n%10**(c-1))//10
        swapped_no=l_d*10**(c-1)+(m_d*10)+f_d
        print(swapped_no)
    else:
        print(n)

# wap to print encodded no. increasing by 1 in each digit
# 0 to 8 --> increse 1 and 9 --> 0

n=int(input("Enter Number : "))
en_no=0
position=1

while n>0:
    digit=n%10
    n=n//10
    if digit<9:
        digit=digit+1
    else:
        digit=0
    en_no=en_no+(digit*position)
    position=position*10
print(en_no)
    

