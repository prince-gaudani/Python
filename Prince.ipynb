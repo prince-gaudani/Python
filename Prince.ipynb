{
 "cells": [
  {
   "cell_type": "markdown",
   "metadata": {},
   "source": [
    "* membership operator"
   ]
  },
  {
   "cell_type": "code",
   "execution_count": 1,
   "metadata": {
    "scrolled": true
   },
   "outputs": [
    {
     "name": "stdout",
     "output_type": "stream",
     "text": [
      "True\n",
      "True\n"
     ]
    }
   ],
   "source": [
    "s='this is python'\n",
    "print('this ' in s)\n",
    "print('X' not in s)"
   ]
  },
  {
   "cell_type": "markdown",
   "metadata": {},
   "source": [
    "ternary operator"
   ]
  },
  {
   "cell_type": "code",
   "execution_count": 2,
   "metadata": {
    "scrolled": true
   },
   "outputs": [
    {
     "name": "stdout",
     "output_type": "stream",
     "text": [
      "10\n"
     ]
    }
   ],
   "source": [
    "a,b=20,30\n",
    "x=10 if a<b else 40\n",
    "print(x)"
   ]
  },
  {
   "cell_type": "markdown",
   "metadata": {},
   "source": [
    "assignment operator"
   ]
  },
  {
   "cell_type": "code",
   "execution_count": 3,
   "metadata": {},
   "outputs": [
    {
     "name": "stdout",
     "output_type": "stream",
     "text": [
      "6\n"
     ]
    }
   ],
   "source": [
    "y=2\n",
    "y*=3\n",
    "print(y)"
   ]
  },
  {
   "cell_type": "markdown",
   "metadata": {},
   "source": [
    "identify operators\n",
    "is, is not"
   ]
  },
  {
   "cell_type": "code",
   "execution_count": 4,
   "metadata": {},
   "outputs": [
    {
     "name": "stdout",
     "output_type": "stream",
     "text": [
      "False\n",
      "True\n"
     ]
    }
   ],
   "source": [
    "a=10\n",
    "b=20\n",
    "print(a is b)\n",
    "print(a is not b)"
   ]
  },
  {
   "cell_type": "raw",
   "metadata": {},
   "source": [
    "bitwise operator (Binary)"
   ]
  },
  {
   "cell_type": "markdown",
   "metadata": {},
   "source": [
    "# operator precedence "
   ]
  },
  {
   "cell_type": "markdown",
   "metadata": {},
   "source": [
    "() ,\n",
    "** - same R to L ,\n",
    "bitwise complement , \n",
    "* ,/ ,//,% - same L to R ,\n",
    "+ , - ,\n",
    "<< , >> ,\n",
    "relational operator  ,\n",
    "assignment ,\n",
    "membership ,\n",
    "not ,\n",
    "and ,\n",
    "or"
   ]
  },
  {
   "cell_type": "markdown",
   "metadata": {},
   "source": [
    "ord()"
   ]
  },
  {
   "cell_type": "code",
   "execution_count": 5,
   "metadata": {},
   "outputs": [
    {
     "name": "stdout",
     "output_type": "stream",
     "text": [
      "97\n"
     ]
    }
   ],
   "source": [
    "print(ord('a'))"
   ]
  },
  {
   "cell_type": "code",
   "execution_count": 6,
   "metadata": {},
   "outputs": [
    {
     "name": "stdout",
     "output_type": "stream",
     "text": [
      "b\n",
      "d\n"
     ]
    }
   ],
   "source": [
    "print(chr(98))\n",
    "x=chr(100)\n",
    "print(x)"
   ]
  },
  {
   "cell_type": "markdown",
   "metadata": {},
   "source": [
    "Math Library"
   ]
  },
  {
   "cell_type": "code",
   "execution_count": 9,
   "metadata": {},
   "outputs": [
    {
     "name": "stdout",
     "output_type": "stream",
     "text": [
      "9.0\n"
     ]
    }
   ],
   "source": [
    "\n",
    "import math\n",
    "x=math.sqrt(81)\n",
    "print(x)"
   ]
  },
  {
   "cell_type": "code",
   "execution_count": 8,
   "metadata": {},
   "outputs": [
    {
     "name": "stdout",
     "output_type": "stream",
     "text": [
      "31415.926535897932\n"
     ]
    }
   ],
   "source": [
    "import math\n",
    "radius =100\n",
    "p=math.pi\n",
    "area=p*100**2\n",
    "print(area)"
   ]
  },
  {
   "cell_type": "markdown",
   "metadata": {},
   "source": [
    "* wap to convert sec into hour:min:sec"
   ]
  },
  {
   "cell_type": "code",
   "execution_count": 11,
   "metadata": {},
   "outputs": [
    {
     "name": "stdout",
     "output_type": "stream",
     "text": [
      "Enter seconds : 3600\n",
      "hr:min:sec--> 1 : 60 : 3600\n"
     ]
    }
   ],
   "source": [
    "s=int(input('Enter seconds : '))\n",
    "hr=s//3600\n",
    "sec=s%3600\n",
    "min=s//60\n",
    "sec=s%60\n",
    "print(\"hr:min:sec-->\",hr,':',min,':',s)"
   ]
  },
  {
   "cell_type": "markdown",
   "metadata": {},
   "source": [
    "\n",
    "* wap to swap to variables without third variable"
   ]
  },
  {
   "cell_type": "code",
   "execution_count": 16,
   "metadata": {},
   "outputs": [
    {
     "name": "stdout",
     "output_type": "stream",
     "text": [
      "20 10\n",
      "10\n"
     ]
    }
   ],
   "source": [
    "a,b=10,20\n",
    "a=a+b\n",
    "b=a-b\n",
    "a=a-b\n",
    "print(a,b)\n",
    "\n",
    "# or\n",
    "\n",
    "a,b=b,a\n",
    "print(a)"
   ]
  },
  {
   "cell_type": "markdown",
   "metadata": {},
   "source": [
    "wap to get marks from the user and give grades according to following distribution"
   ]
  },
  {
   "cell_type": "code",
   "execution_count": 24,
   "metadata": {},
   "outputs": [
    {
     "name": "stdout",
     "output_type": "stream",
     "text": [
      "Enter your marks :100\n",
      "A\n"
     ]
    }
   ],
   "source": [
    "m=int(input(\"Enter your marks :\"))\n",
    "if (m<=100 and m>=80) :\n",
    "   print('A')\n",
    "elif (m<=79 and m>=60) :\n",
    "   print('B')\n",
    "elif (m<=59 and m>=35):\n",
    "   print(\"c\")\n",
    "elif (m<35 and m>=0) :\n",
    "   print(\"Fail\")\n",
    "else :\n",
    "   print(\"Enter proper marks \")"
   ]
  },
  {
   "cell_type": "code",
   "execution_count": 28,
   "metadata": {
    "scrolled": true
   },
   "outputs": [
    {
     "name": "stdout",
     "output_type": "stream",
     "text": [
      "above ten\n",
      "above 20\n"
     ]
    }
   ],
   "source": [
    "# nested if\n",
    "x=55\n",
    "if x>10:\n",
    "    print('above ten')\n",
    "    if x>20 :\n",
    "        print('above 20')\n",
    "    else :\n",
    "            print('below 20')           \n",
    "else :\n",
    "    print('less')"
   ]
  },
  {
   "cell_type": "code",
   "execution_count": 29,
   "metadata": {},
   "outputs": [
    {
     "name": "stdout",
     "output_type": "stream",
     "text": [
      "c is max\n"
     ]
    }
   ],
   "source": [
    "# wap to compare three numbers and find biggest num among three num\n",
    "a,b,c=10,20,30\n",
    "if a>c and a>b :\n",
    "    print('a is max')\n",
    "elif b>a and b>c :\n",
    "    print('b is max')\n",
    "else :\n",
    "    print('c is max')"
   ]
  },
  {
   "cell_type": "markdown",
   "metadata": {},
   "source": [
    "* wap to arrange three numbers in ascending and descending order"
   ]
  },
  {
   "cell_type": "code",
   "execution_count": 18,
   "metadata": {},
   "outputs": [
    {
     "name": "stdout",
     "output_type": "stream",
     "text": [
      "enter number a :1\n",
      "enter number b :2\n",
      "enter number c :3\n",
      "asc num : 1 2 3\n",
      "desc num : 3 2 1\n"
     ]
    }
   ],
   "source": [
    "a=int(input('enter number a :'))\n",
    "b=int(input('enter number b :'))\n",
    "c=int(input('enter number c :'))\n",
    "if a<b and a<c :\n",
    "    if b<c :\n",
    "         x,y,z=a,b,c\n",
    "    else :\n",
    "         x,y,z=a,c,b\n",
    "elif b<c and b<a :\n",
    "        if a<c :\n",
    "            x,y,z=b,a,c\n",
    "        else :\n",
    "           x,y,z=b,c,a\n",
    "elif c<a and c<b :\n",
    "        if a<b :\n",
    "           x,y,z=c,a,b\n",
    "        else :\n",
    "           x,y,z=c,b,a\n",
    "else :\n",
    "     print('Enter correct number')\n",
    "print('asc num :' ,x,y,z)\n",
    "print('desc num :',z,y,x)\n",
    "            "
   ]
  },
  {
   "cell_type": "markdown",
   "metadata": {},
   "source": [
    "*wap to create calculator get a two numbers from user and also get the sign from user which operation he or she want to do"
   ]
  },
  {
   "cell_type": "code",
   "execution_count": 20,
   "metadata": {},
   "outputs": [
    {
     "name": "stdout",
     "output_type": "stream",
     "text": [
      "enter num 1 :5\n",
      "enter num 2 :3\n",
      "enter sign :*\n",
      "multiplication is :  15\n"
     ]
    }
   ],
   "source": [
    "a=int(input('enter num 1 :'))\n",
    "b=int(input('enter num 2 :'))\n",
    "s=input('enter sign :')\n",
    "\n",
    "if s=='+' :\n",
    "    print('Addition is :',a+b)\n",
    "elif s=='-' :\n",
    "    print('substraction is : ',a-b)\n",
    "elif s=='*' :\n",
    "    print('multiplication is : ',a*b)\n",
    "elif s=='//' :\n",
    "    print('Division is : ',a//b)\n",
    "elif s=='%' :\n",
    "    print('modulo is : ',a%b)\n",
    "else :\n",
    "    print('enter valid sign')"
   ]
  },
  {
   "cell_type": "code",
   "execution_count": null,
   "metadata": {},
   "outputs": [],
   "source": [
    "# * wap to check the enter entered date is valid or not if the date is valid then give the increment date \n",
    "\n",
    "date=int(input('Enter date :'))\n",
    "m=int(input('Enter Month :'))\n",
    "y=int(input('Enter year :'))\n",
    "\n",
    "if (m=='1' or m=='3'or m=='5'or m=='7' or m=='8'or m=='10' or m=='12') :\n",
    "    max1=31\n",
    "elif (m=='4' or m=='6' or m=='9' or m=='11') :\n",
    "    max1=30\n",
    "elif (y%4==0 and y%400==0 or y%100!=0) :\n",
    "    max1=29\n",
    "else  :\n",
    "    max1=28\n",
    "    \n",
    "if m<1 or m>12 :\n",
    "    print('invalid date')\n",
    "elif date<1 and date>max1 :\n",
    "    print('date is invalid')\n",
    "elif date==max1 and m!=12 :\n",
    "    date=1\n",
    "    m=m+1\n",
    "    print('next date =',date,m,y)\n",
    "elif date==max1 and m==12 :\n",
    "    date=1\n",
    "    m=1\n",
    "    y+=1\n",
    "    print('next date :',date,m,y)\n",
    "else :\n",
    "    date+=1\n",
    "    print('next date :',date,m,y)\n",
    "    \n",
    "    "
   ]
  },
  {
   "cell_type": "code",
   "execution_count": 30,
   "metadata": {},
   "outputs": [
    {
     "name": "stdout",
     "output_type": "stream",
     "text": [
      "Enter cents97\n",
      "3 quarter,2 dime,2 penny\n"
     ]
    }
   ],
   "source": [
    "#  wap to calculate number of basic american coins given a value less than\n",
    "# 1 $= 100 cents,\n",
    "# 25 cents= 1 quarter , 10 cents= 1 dime, 5 cents= 1 nickel , 1 cent= 1 penny\n",
    "\n",
    "cents=int(input('Enter cents'))\n",
    "qua=0\n",
    "dim=0\n",
    "nic=0\n",
    "pen=0\n",
    "\n",
    "if cents>=25 :\n",
    "    qua=cents//25\n",
    "    cents%=25\n",
    "    print(qua,'quarter',end=',')\n",
    "if cents>=10 :\n",
    "    dim=cents//10\n",
    "    cents%=10\n",
    "    print(dim,'dime',end=',')\n",
    "if cents>=5 :\n",
    "    nic=cents//5\n",
    "    cents%=5\n",
    "    print(nic,'nickel',end=',')\n",
    "if cents>=1 :\n",
    "    pen=cents\n",
    "    print(pen,'penny')\n"
   ]
  },
  {
   "cell_type": "code",
   "execution_count": 35,
   "metadata": {},
   "outputs": [
    {
     "name": "stdout",
     "output_type": "stream",
     "text": [
      "Enter vehicle type :2\n",
      "Entry_hr :3\n",
      "Entry_min :20\n",
      "Exit_hr :6\n",
      "Exit_min :20\n",
      "rate rs = 50\n"
     ]
    }
   ],
   "source": [
    "#  wap to calculate the parking fees as per the entry and exit time in \n",
    "# 24 hr timesystem from user and fees are as per folowed\n",
    "# < 3 hrs bus/truck-100 ,car-50 , 2wheelers-30\n",
    "# > 3 hrs  bus/truck-150 ,car-100 , 2wheelers-50\n",
    "\n",
    "v=int(input('Enter vehicle type :'))\n",
    "e_hr=int(input('Entry_hr :'))\n",
    "e_min=int(input('Entry_min :'))\n",
    "ex_hr=int(input('Exit_hr :'))\n",
    "ex_min=int(input('Exit_min :'))\n",
    "\n",
    "if ex_hr<e_hr :\n",
    "    ex_hr+=24\n",
    "pt_hr=(ex_hr-e_hr)\n",
    "pt_min=(ex_min-e_min)\n",
    "\n",
    "if pt_hr<3 or (pt_hr==3 and pt_min<=0) :\n",
    "    if v==1 :\n",
    "        rate=100\n",
    "    elif v==2 :\n",
    "        rate=50\n",
    "    else :\n",
    "        rate=30\n",
    "elif pt_hr>3 or (pt_hr==3 and pt_min>0) :\n",
    "    if v==1:\n",
    "        rate=150\n",
    "    elif v==2 :\n",
    "        rate=100\n",
    "    else :\n",
    "        rate=50\n",
    "else :\n",
    "    print('Enter time properly :')\n",
    "print('rate rs =',rate)\n",
    "\n"
   ]
  },
  {
   "cell_type": "markdown",
   "metadata": {},
   "source": [
    "* iterators (loops)\n",
    "for , while"
   ]
  },
  {
   "cell_type": "code",
   "execution_count": 2,
   "metadata": {},
   "outputs": [
    {
     "name": "stdout",
     "output_type": "stream",
     "text": [
      "A\n",
      "APPLE\n",
      "P\n",
      "APPLE\n",
      "P\n",
      "APPLE\n",
      "L\n",
      "APPLE\n",
      "E\n",
      "APPLE\n"
     ]
    }
   ],
   "source": [
    "s='APPLE'\n",
    "for i in s:\n",
    "    print(i)\n",
    "    print(s)"
   ]
  },
  {
   "cell_type": "code",
   "execution_count": 15,
   "metadata": {
    "scrolled": true
   },
   "outputs": [
    {
     "name": "stdout",
     "output_type": "stream",
     "text": [
      "1\n",
      "apple\n",
      "2\n",
      "apple\n",
      "3\n",
      "apple\n"
     ]
    }
   ],
   "source": [
    "s='apple'\n",
    "for i in range(1,4,1) :\n",
    "    print(i)\n",
    "    print(s)"
   ]
  },
  {
   "cell_type": "code",
   "execution_count": 27,
   "metadata": {},
   "outputs": [
    {
     "name": "stdout",
     "output_type": "stream",
     "text": [
      "10\n",
      "9\n",
      "8\n",
      "7\n",
      "6\n",
      "5\n"
     ]
    }
   ],
   "source": [
    "for i in range(10,1,-1) :\n",
    "    print(i)"
   ]
  },
  {
   "cell_type": "code",
   "execution_count": 15,
   "metadata": {},
   "outputs": [
    {
     "name": "stdout",
     "output_type": "stream",
     "text": [
      "enter namerXYZ\n",
      "XYZ\n",
      "good\n"
     ]
    }
   ],
   "source": [
    "# for i in range(1,10,1):\n",
    "#     print(i)\n",
    "    \n",
    "# x=1\n",
    "# while x<=5:\n",
    "#     print(x)\n",
    "#     x+=1\n",
    "\n",
    "n=''\n",
    "while n!=\"XYZ\" :\n",
    "    n=input(\"enter namer\")\n",
    "    print(n)\n",
    "print(\"good\")"
   ]
  },
  {
   "cell_type": "markdown",
   "metadata": {},
   "source": [
    "* break Statement"
   ]
  },
  {
   "cell_type": "code",
   "execution_count": 28,
   "metadata": {},
   "outputs": [
    {
     "name": "stdout",
     "output_type": "stream",
     "text": [
      "0\n",
      "0\n",
      "1\n",
      "1\n",
      "2\n",
      "2\n",
      "3\n",
      "3\n",
      "4\n",
      "stop\n",
      "ok\n"
     ]
    }
   ],
   "source": [
    "for i in range(10):\n",
    "    print(i)\n",
    "    if i==4 :\n",
    "        print(\"stop\")\n",
    "        break\n",
    "    print(i)\n",
    "print(\"ok\")"
   ]
  },
  {
   "cell_type": "markdown",
   "metadata": {},
   "source": [
    "* continue Statement"
   ]
  },
  {
   "cell_type": "code",
   "execution_count": 1,
   "metadata": {},
   "outputs": [
    {
     "name": "stdout",
     "output_type": "stream",
     "text": [
      "1\n",
      "3\n",
      "5\n",
      "7\n",
      "9\n"
     ]
    }
   ],
   "source": [
    "for i in range(10) :\n",
    "    if i%2==0:\n",
    "        continue\n",
    "    print(i)"
   ]
  },
  {
   "cell_type": "markdown",
   "metadata": {},
   "source": [
    "* LOOP WITH ELSE"
   ]
  },
  {
   "cell_type": "code",
   "execution_count": 2,
   "metadata": {},
   "outputs": [
    {
     "name": "stdout",
     "output_type": "stream",
     "text": [
      "0\n"
     ]
    }
   ],
   "source": [
    "for i in range(3):\n",
    "    if i==1:\n",
    "        break\n",
    "    print(i)\n",
    "else :\n",
    "    print(\"y\")"
   ]
  },
  {
   "cell_type": "markdown",
   "metadata": {},
   "source": [
    "* wap to get number from the user and find sum of upto n number and also find avg of that"
   ]
  },
  {
   "cell_type": "code",
   "execution_count": 4,
   "metadata": {},
   "outputs": [
    {
     "name": "stdout",
     "output_type": "stream",
     "text": [
      "Enter start num 5\n",
      "sum= 15 avg = 3.0\n"
     ]
    }
   ],
   "source": [
    "# n1=int(input(\"Enter start num \"))\n",
    "# n2=int(input(\"Enter end num\"))\n",
    "# sum=0\n",
    "# for i in range(n1,n2,1):\n",
    "#     sum=sum+i\n",
    "# print(\"sum=\",sum,\"avg =\",sum/n)\n",
    "\n",
    "n1=int(input(\"Enter start num \"))\n",
    "sum=0\n",
    "for i in range(n1+1):\n",
    "    sum=sum+i\n",
    "print(\"sum=\",sum,\"avg =\",sum/n)"
   ]
  },
  {
   "cell_type": "markdown",
   "metadata": {},
   "source": [
    "* wap to find factorial of entered number"
   ]
  },
  {
   "cell_type": "code",
   "execution_count": 10,
   "metadata": {},
   "outputs": [
    {
     "name": "stdout",
     "output_type": "stream",
     "text": [
      "Enter number 5\n",
      "fact= 120\n"
     ]
    }
   ],
   "source": [
    "n=int(input(\"Enter number \"))\n",
    "f=1\n",
    "if n<0:\n",
    "    print(\"not valid\")\n",
    "elif n==0 or n==1:\n",
    "    print(\"Fact=\",f)\n",
    "else:\n",
    "    for i in range(2,n+1):\n",
    "        f=f*i\n",
    "    print(\"fact=\",f)"
   ]
  },
  {
   "cell_type": "markdown",
   "metadata": {},
   "source": [
    "* wap to finf fibonaci sequence upto nth term"
   ]
  },
  {
   "cell_type": "code",
   "execution_count": 28,
   "metadata": {},
   "outputs": [
    {
     "name": "stdout",
     "output_type": "stream",
     "text": [
      "Enter number 5\n",
      "fibonacci =\n",
      "0\n",
      "1\n",
      "1\n",
      "2\n",
      "3\n"
     ]
    }
   ],
   "source": [
    "n=int(input(\"Enter number \"))\n",
    "n1,n2=0,1\n",
    "if n<0:\n",
    "    print(\"not valid\")\n",
    "elif n==1:\n",
    "    print(\"fibonacci =\",n1)\n",
    "else:\n",
    "    print(\"fibonacci =\")\n",
    "    print(n1)\n",
    "    print(n2)\n",
    "    for i in range(n-2):\n",
    "        n=n1+n2\n",
    "        print(n)\n",
    "        n1=n2\n",
    "        n2=n\n",
    "     \n"
   ]
  },
  {
   "cell_type": "markdown",
   "metadata": {},
   "source": [
    "* prime num or not"
   ]
  },
  {
   "cell_type": "code",
   "execution_count": 35,
   "metadata": {},
   "outputs": [
    {
     "name": "stdout",
     "output_type": "stream",
     "text": [
      "Enter num15\n",
      "Composite\n"
     ]
    }
   ],
   "source": [
    "n=int(input(\"Enter num\"))\n",
    "flag=0\n",
    "for i in range(2,n):\n",
    "    if n%i==0:\n",
    "        flag=1\n",
    "if flag==0:\n",
    "      print(\"prime\")\n",
    "else:\n",
    "    print(\"Composite\")"
   ]
  },
  {
   "cell_type": "markdown",
   "metadata": {},
   "source": [
    "* wap to find number Armstrong or not without inbuilt function"
   ]
  },
  {
   "cell_type": "code",
   "execution_count": 3,
   "metadata": {},
   "outputs": [
    {
     "name": "stdout",
     "output_type": "stream",
     "text": [
      "Enter num111\n",
      "111\n",
      "Pallindrome\n"
     ]
    }
   ],
   "source": [
    "n=int(input(\"Enter num\"))\n",
    "temp=n\n",
    "rev=0\n",
    "while n!=0:\n",
    "    a=n%10\n",
    "    rev=rev*10+a\n",
    "    n=n//10\n",
    "print(rev)\n",
    "if rev==temp:\n",
    "    print(\"Pallindrome\")\n",
    "else :\n",
    "    print(\"not\")"
   ]
  },
  {
   "cell_type": "markdown",
   "metadata": {},
   "source": [
    "* Armstrong num "
   ]
  },
  {
   "cell_type": "code",
   "execution_count": 8,
   "metadata": {
    "scrolled": true
   },
   "outputs": [
    {
     "name": "stdout",
     "output_type": "stream",
     "text": [
      "Enter num153\n",
      "Arm\n"
     ]
    }
   ],
   "source": [
    "n=int(input(\"Enter num\"))\n",
    "temp=n\n",
    "arm=0\n",
    "sum=0\n",
    "while temp!=0:\n",
    "    a=temp%10\n",
    "    sum=sum+a**3\n",
    "    temp=temp//10\n",
    "if sum==n:\n",
    "    print(\"Arm\")\n",
    "else :\n",
    "    print(\"not\")"
   ]
  },
  {
   "cell_type": "markdown",
   "metadata": {},
   "source": [
    "# pattern "
   ]
  },
  {
   "cell_type": "code",
   "execution_count": 18,
   "metadata": {
    "scrolled": true
   },
   "outputs": [
    {
     "name": "stdout",
     "output_type": "stream",
     "text": [
      "* \n",
      "* * \n",
      "* * * \n",
      "* * * * \n",
      "* * * * * \n",
      "* * * * * \n",
      "* * * * \n",
      "* * * \n",
      "* * \n",
      "* \n"
     ]
    }
   ],
   "source": [
    "row=5\n",
    "for i in range(1,row+1):\n",
    "    for j in range(1,i+1):\n",
    "        print(\"*\",end=\" \")\n",
    "    print()\n",
    "    \n",
    "for i in range(1,row+1):\n",
    "    for j in range(1,row+2-i):\n",
    "        print(\"*\",end=\" \")\n",
    "    print()"
   ]
  },
  {
   "cell_type": "code",
   "execution_count": 20,
   "metadata": {},
   "outputs": [
    {
     "name": "stdout",
     "output_type": "stream",
     "text": [
      "  * * * * * \n",
      "    * * * * \n",
      "      * * * \n",
      "        * * \n",
      "          * \n"
     ]
    }
   ],
   "source": [
    "n=5\n",
    "\n",
    "for i in range(1,n+1):\n",
    "    for j in range(1,i+1):\n",
    "        print(\" \",end=\" \")\n",
    "    for k in range(i,n+1):\n",
    "        print(\"*\",end=\" \")\n",
    "    print()\n",
    "    "
   ]
  },
  {
   "cell_type": "code",
   "execution_count": 41,
   "metadata": {},
   "outputs": [
    {
     "name": "stdout",
     "output_type": "stream",
     "text": [
      "    * \n",
      "   * * \n",
      "  * * * \n",
      " * * * * \n",
      "* * * * * \n"
     ]
    }
   ],
   "source": [
    "n=5\n",
    "for i in range(1,n+1):\n",
    "    for j in range(1,n-i+1):\n",
    "        print(\"\",end=\" \")\n",
    "    for k in range(1,i+1):\n",
    "        print(\"*\",end=\" \")\n",
    "    print()"
   ]
  },
  {
   "cell_type": "code",
   "execution_count": 39,
   "metadata": {},
   "outputs": [
    {
     "name": "stdout",
     "output_type": "stream",
     "text": [
      "    1 \n",
      "   A B \n",
      "  1 2 3 \n",
      " A B C D \n",
      "1 2 3 4 5 \n"
     ]
    }
   ],
   "source": [
    "n=5\n",
    "for i in range(1,n+1):\n",
    "    l=65\n",
    "    g=1\n",
    "    for j in range(1,n-i+1):\n",
    "        print(end=\" \")\n",
    "    for k in range(1,i+1):\n",
    "        if i%2==0:\n",
    "            print(chr(l),end=\" \")\n",
    "            l=l+1\n",
    "        else:\n",
    "            print(g,end=\" \")\n",
    "            g=g+1\n",
    "    print()\n",
    "                "
   ]
  },
  {
   "cell_type": "markdown",
   "metadata": {},
   "source": [
    "* wap to ask the user for an hr between 1 and 12 ask them to enter am or pm and ask how many hr user want ahead in future\n",
    "  printout what hour will be that many hours into the future"
   ]
  },
  {
   "cell_type": "code",
   "execution_count": 51,
   "metadata": {},
   "outputs": [
    {
     "name": "stdout",
     "output_type": "stream",
     "text": [
      "Enter time : 3\n",
      "Enter am or pm : pm\n",
      "how many hrs ahead ? : 5\n",
      "new_hr : 8 pm\n"
     ]
    }
   ],
   "source": [
    "user=int(input(\"Enter time : \"))\n",
    "day=input(\"Enter am or pm : \")\n",
    "hr=int(input(\"how many hrs ahead ? : \"))\n",
    "\n",
    "if user>0 and user<=12 and (day==\"am\" or day==\"pm\") and hr>=0 :\n",
    "    if day==\"pm\" and user!=12:\n",
    "        user+=12\n",
    "    elif day==\"am\" and user==12:\n",
    "        user=0\n",
    "    new_hr=user+hr\n",
    "    new_hr=new_hr%24\n",
    "    \n",
    "    if new_hr>=0 and new_hr<12:\n",
    "        if new_hr==0:\n",
    "            new_hr=12\n",
    "        print(\"new_hr :\",new_hr,\"am\")\n",
    "    else :\n",
    "        new_hr=new_hr%12\n",
    "        if new_hr==0:\n",
    "            new_hr=12\n",
    "        print(\"new_hr :\",new_hr,\"pm\")\n",
    "else:n=5\n",
    "for i in range(1,n+1):\n",
    "    l=65\n",
    "    g=1\n",
    "    for j in range(1,n-i+1):\n",
    "        print(end=\" \")\n",
    "    for k in range(1,i+1):\n",
    "        if i%2==0:\n",
    "            print(chr(l),end=\" \")\n",
    "            l=l+1\n",
    "        else:\n",
    "            print(g,end=\" \")\n",
    "            g=g+1\n",
    "    print()\n",
    "                \n",
    "    print(\"invalid input\")\n",
    "        "
   ]
  },
  {
   "cell_type": "markdown",
   "metadata": {},
   "source": [
    "* wap to get marks from user upto when user enter done find sum of marks , avg , min and max marks"
   ]
  },
  {
   "cell_type": "code",
   "execution_count": 6,
   "metadata": {},
   "outputs": [
    {
     "name": "stdout",
     "output_type": "stream",
     "text": [
      "Enter marks or done5\n",
      "Enter marks or done10\n",
      "Enter marks or donedone\n",
      "sum = 15 avg = 7 min = 5 max = 10\n"
     ]
    }
   ],
   "source": [
    "count=0\n",
    "sum=0\n",
    "\n",
    "while True:\n",
    "    n=input(\"Enter marks or done\")\n",
    "    \n",
    "    if n==\"done\":\n",
    "        break\n",
    "    n=int(n)\n",
    "    if n<0 or n>100:\n",
    "        print(\"ENTER VALID Mrks\")\n",
    "        continue\n",
    "    count=count+1\n",
    "    sum=sum+n\n",
    "    if count==1:\n",
    "        min1=n\n",
    "        max1=n\n",
    "    if n>max1:\n",
    "        max1=n\n",
    "    if n<min1:\n",
    "        min1=n\n",
    "print(\"sum =\",sum,\"avg =\",sum//count ,\"min =\",min1,\"max =\",max1)\n",
    "        "
   ]
  },
  {
   "cell_type": "code",
   "execution_count": 10,
   "metadata": {},
   "outputs": [
    {
     "name": "stdout",
     "output_type": "stream",
     "text": [
      "Enter days : 30\n",
      "165\n"
     ]
    }
   ],
   "source": [
    "# sum of rupees day by day\n",
    "sum=0\n",
    "m=1\n",
    "s=7\n",
    "d=int(input(\"Enter days : \"))\n",
    "w=d//7\n",
    "for i in range(w):\n",
    "    for j in range(m,s+1):\n",
    "        sum=sum+j\n",
    "    m=m+1\n",
    "    s=s+1\n",
    "for k in range(d%7):\n",
    "    sum=sum+m\n",
    "    m=m+1\n",
    "print(sum)"
   ]
  },
  {
   "cell_type": "code",
   "execution_count": 16,
   "metadata": {},
   "outputs": [
    {
     "name": "stdout",
     "output_type": "stream",
     "text": [
      "Enter Unit : 350\n",
      "Charge : 2000\n"
     ]
    }
   ],
   "source": [
    "unit=int(input('Enter Unit : '))\n",
    "if unit<=100:\n",
    "    print(\"no chrge fo first 100\")\n",
    "elif unit>100 and unit<=200:\n",
    "    unit=unit-100\n",
    "    unit=unit*5\n",
    "    print(\"Charge :\",unit)\n",
    "elif unit>200 :\n",
    "    unit=unit-200\n",
    "    unit=unit*10\n",
    "    print(\"Charge :\",unit+500)"
   ]
  },
  {
   "cell_type": "markdown",
   "metadata": {},
   "source": [
    "* lcm & Gcd"
   ]
  },
  {
   "cell_type": "raw",
   "metadata": {},
   "source": [
    "r=int(input('enter the no of rows'))\n",
    "for i in range(1,4+1):\n",
    "for j in(1,3+1):\n",
    "print('*',end=' ')\n"
   ]
  },
  {
   "cell_type": "code",
   "execution_count": 7,
   "metadata": {},
   "outputs": [
    {
     "name": "stdout",
     "output_type": "stream",
     "text": [
      "enter the no of rows4\n",
      "* \n",
      "* * \n",
      "* * * \n",
      "* * * * \n"
     ]
    }
   ],
   "source": [
    "r=int(input('enter the no of rows'))\n",
    "for i in range(1,r+1):\n",
    "    for j in range(1,i+1):\n",
    "        print('*',end=' ')\n",
    "    print()"
   ]
  },
  {
   "cell_type": "code",
   "execution_count": 2,
   "metadata": {},
   "outputs": [
    {
     "name": "stdout",
     "output_type": "stream",
     "text": [
      "enter the no rows4\n",
      "* * * * \n",
      "* * * \n",
      "* * \n",
      "* \n"
     ]
    }
   ],
   "source": [
    "r=int(input(\"enter the no rows\"))\n",
    "for i in range(r,0,-1):\n",
    "    for i in range(i,0,-1):\n",
    "        print('*',end=' ')\n",
    "    print( )"
   ]
  },
  {
   "cell_type": "code",
   "execution_count": 4,
   "metadata": {},
   "outputs": [
    {
     "name": "stdout",
     "output_type": "stream",
     "text": [
      "enter the number of rows4\n",
      "* \n",
      "* * \n",
      "* * * \n",
      "* * * * \n",
      "* * * * \n",
      "* * * \n",
      "* * \n",
      "* \n"
     ]
    }
   ],
   "source": [
    "r=int(input('enter the number of rows'))\n",
    "for i in range(1,r+1):\n",
    "    for j in range(1,i+1):\n",
    "        print('*',end=' ')\n",
    "    print()\n",
    "for i in range(r,0,-1):\n",
    "    for j in range(i,0,-1):\n",
    "        print('*',end=' ')\n",
    "    print()"
   ]
  },
  {
   "cell_type": "code",
   "execution_count": 5,
   "metadata": {},
   "outputs": [
    {
     "name": "stdout",
     "output_type": "stream",
     "text": [
      "enter the no of rows4\n",
      "A \n",
      "B B \n",
      "C C C \n",
      "D D D D \n"
     ]
    }
   ],
   "source": [
    "r=int(input(\"enter the no of rows\"))\n",
    "for i in range(1,r+1):\n",
    "    for j in range(1,i+1):\n",
    "        print(chr(i+64),end=' ')\n",
    "    print( )"
   ]
  },
  {
   "cell_type": "code",
   "execution_count": 1,
   "metadata": {},
   "outputs": [
    {
     "name": "stdout",
     "output_type": "stream",
     "text": [
      "enter the no of rows4\n",
      "A \n",
      "A B \n",
      "A B C \n",
      "A B C D \n"
     ]
    }
   ],
   "source": [
    "r=int(input(\"enter the no of rows\"))\n",
    "for i in range(1,r+1):\n",
    "    for j in range(1,i+1):\n",
    "        print(chr(j+64),end=' ')\n",
    "    print()"
   ]
  },
  {
   "cell_type": "code",
   "execution_count": 2,
   "metadata": {},
   "outputs": [
    {
     "name": "stdout",
     "output_type": "stream",
     "text": [
      "  * * * * * \n",
      "    * * * * \n",
      "      * * * \n",
      "        * * \n",
      "          * \n"
     ]
    }
   ],
   "source": [
    "n=5\n",
    "\n",
    "for i in range(1,n+1):\n",
    "    for j in range(1,i+1):\n",
    "        print(\" \",end=\" \")\n",
    "    for k in range(i,n+1):\n",
    "        print(\"*\",end=\" \")\n",
    "    print()\n",
    "    "
   ]
  },
  {
   "cell_type": "code",
   "execution_count": 6,
   "metadata": {},
   "outputs": [
    {
     "name": "stdout",
     "output_type": "stream",
     "text": [
      "enter the no of rows4\n",
      "        \n",
      "      * \n",
      "    * * \n",
      "  * * * \n",
      "* * * * \n"
     ]
    }
   ],
   "source": [
    "r=int(input('enter the no of rows'))\n",
    "\n",
    "for i in range(r+1):\n",
    "    for k in range(r-i):\n",
    "        print(\" \",end=\" \")\n",
    "    for j in range(i):\n",
    "        print(\"*\",end=\" \")\n",
    "    print()\n",
    "    "
   ]
  },
  {
   "cell_type": "code",
   "execution_count": 8,
   "metadata": {},
   "outputs": [
    {
     "name": "stdout",
     "output_type": "stream",
     "text": [
      "    * \n",
      "   * * \n",
      "  * * * \n",
      " * * * * \n",
      "* * * * * \n"
     ]
    }
   ],
   "source": [
    "n=5\n",
    "for i in range(1,n+1):\n",
    "    for j in range(1,n-i+1):\n",
    "        print(\"\",end=\" \")\n",
    "    for k in range(1,i+1):\n",
    "        print(\"*\",end=\" \")\n",
    "    print()"
   ]
  },
  {
   "cell_type": "code",
   "execution_count": 9,
   "metadata": {},
   "outputs": [
    {
     "name": "stdout",
     "output_type": "stream",
     "text": [
      "    1 \n",
      "   A B \n",
      "  1 2 3 \n",
      " A B C D \n",
      "1 2 3 4 5 \n"
     ]
    }
   ],
   "source": [
    "n=5\n",
    "for i in range(1,n+1):\n",
    "    l=65\n",
    "    g=1\n",
    "    for j in range(1,n-i+1):\n",
    "        print(end=\" \")\n",
    "    for k in range(1,i+1):\n",
    "        if i%2==0:\n",
    "            print(chr(l),end=\" \")\n",
    "            l=l+1\n",
    "        else:\n",
    "            print(g,end=\" \")\n",
    "            g=g+1\n",
    "    print()\n",
    "                "
   ]
  },
  {
   "cell_type": "code",
   "execution_count": 10,
   "metadata": {},
   "outputs": [
    {
     "name": "stdout",
     "output_type": "stream",
     "text": [
      "5\n"
     ]
    }
   ],
   "source": [
    "def f1(a,b):\n",
    "    c=a+b\n",
    "    print(c)\n",
    "f1(2,3)"
   ]
  },
  {
   "cell_type": "code",
   "execution_count": 11,
   "metadata": {},
   "outputs": [
    {
     "name": "stdout",
     "output_type": "stream",
     "text": [
      "5\n"
     ]
    }
   ],
   "source": [
    "def f1():\n",
    "    a=2\n",
    "    b=3\n",
    "    c=a+b\n",
    "    print(c)\n",
    "f1()"
   ]
  },
  {
   "cell_type": "code",
   "execution_count": 12,
   "metadata": {},
   "outputs": [
    {
     "name": "stdout",
     "output_type": "stream",
     "text": [
      "5\n"
     ]
    }
   ],
   "source": [
    "a=2\n",
    "b=3\n",
    "c=a+b\n",
    "print(c)"
   ]
  },
  {
   "cell_type": "code",
   "execution_count": 13,
   "metadata": {},
   "outputs": [
    {
     "name": "stdout",
     "output_type": "stream",
     "text": [
      "5\n"
     ]
    }
   ],
   "source": [
    "def f1(a,b):\n",
    "    c=a+b\n",
    "    return c\n",
    "x=f1(2,3)\n",
    "print(x)"
   ]
  },
  {
   "cell_type": "code",
   "execution_count": 2,
   "metadata": {},
   "outputs": [
    {
     "name": "stdout",
     "output_type": "stream",
     "text": [
      "4.444444444444445\n"
     ]
    }
   ],
   "source": [
    "def F2C(F):\n",
    "    C=(F-32)*5/9\n",
    "    print(C)\n",
    "F2C(40)"
   ]
  },
  {
   "cell_type": "code",
   "execution_count": 3,
   "metadata": {},
   "outputs": [
    {
     "name": "stdout",
     "output_type": "stream",
     "text": [
      "77.0\n"
     ]
    }
   ],
   "source": [
    "def c2f(c):\n",
    "    return(c*9/5)+32\n",
    "o=c2f(25)\n",
    "print(o)"
   ]
  },
  {
   "cell_type": "code",
   "execution_count": 5,
   "metadata": {},
   "outputs": [
    {
     "name": "stdout",
     "output_type": "stream",
     "text": [
      "enter the number4\n",
      "24\n"
     ]
    }
   ],
   "source": [
    "#wap to calculate the factorial of given number\n",
    "def fact(n):\n",
    "    if n==0 or n==1:\n",
    "        return 1\n",
    "    else:\n",
    "        return n*fact(n-1)\n",
    "n=int(input('enter the number'))\n",
    "print(fact(n))"
   ]
  },
  {
   "cell_type": "code",
   "execution_count": 8,
   "metadata": {},
   "outputs": [
    {
     "name": "stdout",
     "output_type": "stream",
     "text": [
      "enter num25\n",
      "enter start of range15\n",
      "enter end of range22\n",
      "not in a range\n"
     ]
    }
   ],
   "source": [
    "#214 wap to check whether a given range\n",
    "def f1(n,start,end):\n",
    "    return start<=n<=end\n",
    "n=int(input('enter num'))\n",
    "start=int(input('enter start of range'))\n",
    "end=int(input('enter end of range'))\n",
    "if f1(n,start,end):\n",
    "    print('in a range')\n",
    "else:\n",
    "    print('not in a range')"
   ]
  },
  {
   "cell_type": "code",
   "execution_count": 58,
   "metadata": {},
   "outputs": [],
   "source": [
    "#wap to pythan to check whether the given number armstrong or not using user define function \n"
   ]
  },
  {
   "cell_type": "markdown",
   "metadata": {},
   "source": [
    "* wap to swap first and last digit of number \n",
    "  note - not use of inbuilt function like min,max ,sum and data structure"
   ]
  },
  {
   "cell_type": "code",
   "execution_count": 4,
   "metadata": {
    "scrolled": false
   },
   "outputs": [
    {
     "name": "stdout",
     "output_type": "stream",
     "text": [
      "Enter num1234\n",
      "1234\n",
      "163\n",
      "442\n",
      "4231\n"
     ]
    }
   ],
   "source": [
    "n=int(input(\"Enter num\"))\n",
    "c=0\n",
    "temp=n\n",
    "while temp!=0:\n",
    "    r=temp%10\n",
    "    c=c+1\n",
    "    temp=temp//10\n",
    "    if c>1:\n",
    "        f_d=n//10**(c-1)\n",
    "        l_d=n%10\n",
    "        m_d=(n%10**(c-1))//10\n",
    "        swapped_no=l_d*10**(c-1)+(m_d*10)+f_d\n",
    "        print(swapped_no)\n",
    "    else:\n",
    "        print(n)"
   ]
  },
  {
   "cell_type": "code",
   "execution_count": 6,
   "metadata": {},
   "outputs": [
    {
     "name": "stdout",
     "output_type": "stream",
     "text": [
      "Enter Number : 134908\n",
      "245019\n"
     ]
    }
   ],
   "source": [
    "# wap to print encodded no. increasing by 1 in each digit\n",
    "# 0 to 8 --> increse 1 and 9 --> 0\n",
    "\n",
    "n=int(input(\"Enter Number : \"))\n",
    "en_no=0\n",
    "position=1\n",
    "\n",
    "while n>0:\n",
    "    digit=n%10\n",
    "    n=n//10\n",
    "    if digit<9:\n",
    "        digit=digit+1\n",
    "    else:\n",
    "        digit=0\n",
    "    en_no=en_no+(digit*position)\n",
    "    position=position*10\n",
    "print(en_no)\n",
    "    "
   ]
  },
  {
   "cell_type": "code",
   "execution_count": 57,
   "metadata": {},
   "outputs": [
    {
     "name": "stdout",
     "output_type": "stream",
     "text": [
      "    **    \n",
      "   *  *   \n",
      "  ******  \n",
      " *      * \n",
      "*        *\n"
     ]
    }
   ],
   "source": [
    "r=5\n",
    "c=(r*2)-1\n",
    "n=c//2\n",
    "for i in range(0,r):    \n",
    "    for j in range(0,c+1):\n",
    "        if(j==n or j==(c-n) or (i==(r//2)) and j>n and j<(c-n)):          \n",
    "            print(\"*\",end=\"\")\n",
    "        else:\n",
    "            print(end=\" \")\n",
    "    print()\n",
    "    n=n-1"
   ]
  },
  {
   "cell_type": "code",
   "execution_count": 59,
   "metadata": {},
   "outputs": [
    {
     "name": "stdout",
     "output_type": "stream",
     "text": [
      "Enter No.518\n",
      "It is disarium\n"
     ]
    }
   ],
   "source": [
    "# whether th enter number id disarium number or not\n",
    "# 518 --> 5^1 + 1^2 + 8^3 = 518\n",
    "\n",
    "n=int(input(\"Enter No.\"))\n",
    "temp=n\n",
    "temp1=n\n",
    "c=0\n",
    "while n!=0:\n",
    "    r=n%10\n",
    "    c=c+1\n",
    "    n//=10\n",
    "sum=0\n",
    "while temp!=0:\n",
    "    d=temp%10\n",
    "    sum=sum+ d**c \n",
    "    temp=temp//10\n",
    "    c=c-1\n",
    "if sum==temp1:\n",
    "    print(\"It is disarium\")\n",
    "else:\n",
    "    print(\"not Diasarium\")\n",
    "    "
   ]
  },
  {
   "cell_type": "code",
   "execution_count": 65,
   "metadata": {},
   "outputs": [
    {
     "name": "stdout",
     "output_type": "stream",
     "text": [
      "for J : 11\n",
      "for J : 12\n",
      "for J : 13\n",
      "for J : 14\n",
      "for J : 15\n",
      "for J : 16\n",
      "for J : 17\n",
      "for J : 18\n",
      "for J : 19\n",
      "for J : 20\n",
      "Else portion: 21\n"
     ]
    }
   ],
   "source": [
    "var=10\n",
    "for i in range(10):\n",
    "    for j in range(2,10,1):\n",
    "        if var%2==0 :\n",
    "            continue\n",
    "            var+=1\n",
    "            print(var)\n",
    "    var+=1\n",
    "    print(\"for J :\", var)\n",
    "else:\n",
    "    var+=1\n",
    "print(\"Else portion:\",var)"
   ]
  },
  {
   "cell_type": "code",
   "execution_count": null,
   "metadata": {},
   "outputs": [],
   "source": []
  }
 ],
 "metadata": {
  "kernelspec": {
   "display_name": "Python 3",
   "language": "python",
   "name": "python3"
  },
  "language_info": {
   "codemirror_mode": {
    "name": "ipython",
    "version": 3
   },
   "file_extension": ".py",
   "mimetype": "text/x-python",
   "name": "python",
   "nbconvert_exporter": "python",
   "pygments_lexer": "ipython3",
   "version": "3.8.5"
  }
 },
 "nbformat": 4,
 "nbformat_minor": 4
}
