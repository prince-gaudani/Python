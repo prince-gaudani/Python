{
 "cells": [
  {
   "cell_type": "code",
   "execution_count": 2,
   "metadata": {},
   "outputs": [
    {
     "name": "stdout",
     "output_type": "stream",
     "text": [
      "hello \n"
     ]
    }
   ],
   "source": [
    "print(\"hello \")"
   ]
  },
  {
   "cell_type": "code",
   "execution_count": 1,
   "metadata": {},
   "outputs": [
    {
     "name": "stdout",
     "output_type": "stream",
     "text": [
      "False\n"
     ]
    }
   ],
   "source": [
    "a=-5**2+34>6+8/2\n",
    "print(a)"
   ]
  },
  {
   "cell_type": "code",
   "execution_count": 4,
   "metadata": {},
   "outputs": [
    {
     "name": "stdout",
     "output_type": "stream",
     "text": [
      "True\n"
     ]
    }
   ],
   "source": [
    "a=(3<=6)or(9==0)and(5>-1)and 4\n",
    "print(a)"
   ]
  },
  {
   "cell_type": "code",
   "execution_count": 7,
   "metadata": {},
   "outputs": [
    {
     "name": "stdout",
     "output_type": "stream",
     "text": [
      "3.141592653589793\n"
     ]
    }
   ],
   "source": [
    "import math\n",
    "print(math.pi)"
   ]
  },
  {
   "cell_type": "code",
   "execution_count": 8,
   "metadata": {},
   "outputs": [
    {
     "name": "stdout",
     "output_type": "stream",
     "text": [
      "3.141592653589793\n"
     ]
    }
   ],
   "source": [
    "import math as m\n",
    "print(m.pi)"
   ]
  },
  {
   "cell_type": "code",
   "execution_count": 16,
   "metadata": {},
   "outputs": [
    {
     "name": "stdout",
     "output_type": "stream",
     "text": [
      "3.141592653589793\n",
      "4.0\n",
      "4\n",
      "3\n",
      "8.0\n"
     ]
    }
   ],
   "source": [
    "from math import *\n",
    "print(pi)\n",
    "print(math.sqrt(16))\n",
    "print(math.ceil(3.2))\n",
    "print(math.floor(3.2))\n",
    "print(math.pow(2,3))"
   ]
  },
  {
   "cell_type": "code",
   "execution_count": 4,
   "metadata": {},
   "outputs": [
    {
     "name": "stdout",
     "output_type": "stream",
     "text": [
      "enter the value of radius:3\n",
      "the area of a circle with radius 3 is 28.274333882308138"
     ]
    }
   ],
   "source": [
    "#pb 50\n",
    "from math import pi\n",
    "r=int(input('enter the value of radius:'))\n",
    "area=pi*r*r\n",
    "print(\"the area of a circle with radius\",r,\"is\",area,end='')"
   ]
  },
  {
   "cell_type": "markdown",
   "metadata": {},
   "source": [
    "#write a pythan pro area of a triangle\n",
    "form math imoprt bh\n",
    "h=3\n",
    "b=10\n",
    "r=int(input('enter the value of radius:'))"
   ]
  },
  {
   "cell_type": "code",
   "execution_count": 6,
   "metadata": {},
   "outputs": [
    {
     "name": "stdout",
     "output_type": "stream",
     "text": [
      "enter the value of b:3\n",
      "enter the value of h:10\n",
      "the area of triangle is: 15.0\n"
     ]
    }
   ],
   "source": [
    "#pb 51\n",
    "b=int(input('enter the value of b:'))\n",
    "h=int(input('enter the value of h:'))\n",
    "area=1/2*b*h\n",
    "print(\"the area of triangle is:\",area)"
   ]
  },
  {
   "cell_type": "code",
   "execution_count": 8,
   "metadata": {},
   "outputs": [
    {
     "name": "stdout",
     "output_type": "stream",
     "text": [
      "enter the no of hours:2\n",
      "minutes 120\n",
      "seconds: 7200\n"
     ]
    }
   ],
   "source": [
    "#pb 57\n",
    "#write a pythan pro to convert a hours in minut and second\n",
    "hours=int(input('enter the no of hours:'))\n",
    "minutes=60*hours\n",
    "seconds=60*minutes\n",
    "print('minutes',minutes)\n",
    "print('seconds:',seconds)\n"
   ]
  },
  {
   "cell_type": "code",
   "execution_count": null,
   "metadata": {},
   "outputs": [],
   "source": [
    "#pb 56\n",
    "#wap to convert days into year month and days\n",
    "d=int(input('enter days:'))\n",
    "y=d//365\n",
    "x=d%365\n",
    "m=x//30\n",
    "d=x%30\n",
    "print(\"days of\",d,\"in year is\",y,\"month is:\",m,\"day is\",d)"
   ]
  },
  {
   "cell_type": "code",
   "execution_count": 10,
   "metadata": {},
   "outputs": [
    {
     "ename": "IndentationError",
     "evalue": "expected an indented block (<ipython-input-10-db127bf75186>, line 3)",
     "output_type": "error",
     "traceback": [
      "\u001b[1;36m  File \u001b[1;32m\"<ipython-input-10-db127bf75186>\"\u001b[1;36m, line \u001b[1;32m3\u001b[0m\n\u001b[1;33m    print('x is 3')\u001b[0m\n\u001b[1;37m    ^\u001b[0m\n\u001b[1;31mIndentationError\u001b[0m\u001b[1;31m:\u001b[0m expected an indented block\n"
     ]
    }
   ],
   "source": [
    "x=3\n",
    "if x==3:\n",
    "print('x is 3')\n",
    "else\n",
    "print('x is not 3')"
   ]
  },
  {
   "cell_type": "code",
   "execution_count": 2,
   "metadata": {},
   "outputs": [
    {
     "name": "stdout",
     "output_type": "stream",
     "text": [
      "dist\n"
     ]
    }
   ],
   "source": [
    "marks=87\n",
    "if 79<marks<=100:\n",
    "    print('dist')\n",
    "elif 59<marks<80:\n",
    "    print('first')\n",
    "elif 39<marks<60:\n",
    "    print('second')\n",
    "elif 34<marks<40:\n",
    "    print('pass')\n",
    "else:\n",
    "    print('fail')\n",
    "    "
   ]
  },
  {
   "cell_type": "code",
   "execution_count": 5,
   "metadata": {},
   "outputs": [
    {
     "name": "stdout",
     "output_type": "stream",
     "text": [
      "max no is a\n"
     ]
    }
   ],
   "source": [
    "a=25\n",
    "b=10\n",
    "c=15\n",
    "if a>b:\n",
    "    if a>c:\n",
    "        print('max no is a')\n",
    "    else:\n",
    "        print('max no is c')\n",
    "else:\n",
    "    if b>c:\n",
    "        print('max no is b')\n",
    "    else:\n",
    "        print('max no is c')"
   ]
  },
  {
   "cell_type": "code",
   "execution_count": 7,
   "metadata": {},
   "outputs": [
    {
     "name": "stdout",
     "output_type": "stream",
     "text": [
      "l\n",
      "j\n",
      "i\n",
      "e\n",
      "t\n"
     ]
    }
   ],
   "source": [
    "x='ljiet'\n",
    "for s in x:\n",
    "    print(s)"
   ]
  },
  {
   "cell_type": "code",
   "execution_count": 8,
   "metadata": {},
   "outputs": [
    {
     "name": "stdout",
     "output_type": "stream",
     "text": [
      "3\n",
      "4\n",
      "5\n"
     ]
    }
   ],
   "source": [
    "for i in range (3,6):\n",
    "    print(i)"
   ]
  },
  {
   "cell_type": "code",
   "execution_count": 12,
   "metadata": {},
   "outputs": [
    {
     "name": "stdout",
     "output_type": "stream",
     "text": [
      "1\n",
      "2\n"
     ]
    }
   ],
   "source": [
    "for i in range (1,3):\n",
    "    print(i)"
   ]
  },
  {
   "cell_type": "code",
   "execution_count": 13,
   "metadata": {},
   "outputs": [
    {
     "name": "stdout",
     "output_type": "stream",
     "text": [
      "3\n",
      "5\n"
     ]
    }
   ],
   "source": [
    "for i in range (3,6,2):\n",
    "    print(i)"
   ]
  },
  {
   "cell_type": "code",
   "execution_count": null,
   "metadata": {},
   "outputs": [],
   "source": [
    "for i in range(2);\n",
    "for j in range(3):\n",
    "    print('i=',i'')"
   ]
  },
  {
   "cell_type": "code",
   "execution_count": 11,
   "metadata": {},
   "outputs": [
    {
     "name": "stdout",
     "output_type": "stream",
     "text": [
      "18\n"
     ]
    }
   ],
   "source": [
    "#wap to p given numbers if the values are equal then written trice three sum\n",
    "a=1\n",
    "b=2\n",
    "c=3\n",
    "total=a+b+c\n",
    "print(total*3)\n",
    " \n"
   ]
  },
  {
   "cell_type": "code",
   "execution_count": 26,
   "metadata": {},
   "outputs": [
    {
     "ename": "IndentationError",
     "evalue": "unindent does not match any outer indentation level (<tokenize>, line 12)",
     "output_type": "error",
     "traceback": [
      "\u001b[1;36m  File \u001b[1;32m\"<tokenize>\"\u001b[1;36m, line \u001b[1;32m12\u001b[0m\n\u001b[1;33m    temp=temp//10\u001b[0m\n\u001b[1;37m    ^\u001b[0m\n\u001b[1;31mIndentationError\u001b[0m\u001b[1;31m:\u001b[0m unindent does not match any outer indentation level\n"
     ]
    }
   ],
   "source": [
    "#wap to product of odd digit in a given number 0 if their not any odd digits in a given number\n",
    "num=int(input('enter the number'))\n",
    "temp=num\n",
    "input=1\n",
    "product=12345\n",
    "found.odd=False\n",
    "while temp>0:\n",
    "    digit=temp%10\n",
    "    if digit%2 !=0:\n",
    "        product=product*digit\n",
    "        odd=True\n",
    " temp=temp//10\n",
    " if odd==false\n",
    "product=0\n",
    "  print(product)\n",
    "        \n"
   ]
  },
  {
   "cell_type": "code",
   "execution_count": null,
   "metadata": {},
   "outputs": [],
   "source": []
  },
  {
   "cell_type": "code",
   "execution_count": null,
   "metadata": {},
   "outputs": [],
   "source": []
  },
  {
   "cell_type": "code",
   "execution_count": null,
   "metadata": {},
   "outputs": [],
   "source": []
  }
 ],
 "metadata": {
  "kernelspec": {
   "display_name": "Python 3",
   "language": "python",
   "name": "python3"
  },
  "language_info": {
   "codemirror_mode": {
    "name": "ipython",
    "version": 3
   },
   "file_extension": ".py",
   "mimetype": "text/x-python",
   "name": "python",
   "nbconvert_exporter": "python",
   "pygments_lexer": "ipython3",
   "version": "3.8.5"
  }
 },
 "nbformat": 4,
 "nbformat_minor": 4
}
